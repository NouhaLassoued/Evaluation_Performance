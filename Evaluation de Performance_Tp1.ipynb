{
 "cells": [
  {
   "cell_type": "markdown",
   "metadata": {},
   "source": [
    "##### <center> MINISTERE DE L’ENSEIGNEMENT SUPERIEUR  ET DE LA RECHERCHE SCIENTIFIQUE <br/> UNIVERSITE DE SOUSSE </center>\n",
    "\n",
    " \n",
    "\n",
    "### <center>Institut Supérieur d’Informatique et de Technique de Communication </center>           <img src=\"isitcom.png\"> \n",
    "### <center>المعهد العالي للإعلامية و تقنيات الاتصال بحمام سوسة</center>\n",
    "\n",
    " \n",
    "\n",
    "## <center> <div style=\"background-color:lavender;color:steelBlue;padding:1%;text-decoration: underline;\"><font style=\"font-family:italic;\" size=\"12\" >Evaluation de Performance</div> \n",
    "\n",
    " \n",
    "\n",
    "# <center> <div style=\"text-decoration: underline;\"><font size=\"5\" >TP1: Génération de nombres aléatoires de différentes distributions</div> \n",
    "    \n",
    "\n",
    " \n",
    "\n",
    "###  <center> Réalisé par : <br> Nouha Lassoued  <br>   Firas Fekih <br>   2DNI1  <center> <hr>\n",
    "\n",
    " \n",
    "\n",
    "#### <center> Année Universitaire 2020 – 2021 <center>\n",
    "<hr>"
   ]
  },
  {
   "cell_type": "markdown",
   "metadata": {},
   "source": [
    "# <font color=\"Indigo\" size=\"5\"/> Exemple1:\n",
    "### <font style=\"font-family:oblique;\"/>``X a la distribution uniforme continue sur l'intervalle [0,1]  :``\n",
    "\n"
   ]
  },
  {
   "cell_type": "markdown",
   "metadata": {},
   "source": [
    "## ``Calcul théorique:  ``\n",
    "La moyenne Empirique : $\\tilde{x_{n}}$ = $^1/_N$ $\\sum_{n=1}^{N} X_i$ = $^1/_2$ =0.5\n",
    "\n",
    "La variance Empirique: $On^{2}$ = $^1/_N$ $\\sum_{n=1}^{N} X_n^{2}$ - $\\tilde{x_{n}}$ = $^1/_12$ = 0.083"
   ]
  },
  {
   "cell_type": "markdown",
   "metadata": {},
   "source": [
    "## ``Calcul pratique:  ``"
   ]
  },
  {
   "cell_type": "code",
   "execution_count": 148,
   "metadata": {},
   "outputs": [],
   "source": [
    "import random\n",
    "def Tab_alea(n):\n",
    "    tab=[]\n",
    "    for i in range(n+1):\n",
    "        tab.append(random.uniform(0, 1))\n",
    "    return tab\n",
    "\n"
   ]
  },
  {
   "cell_type": "code",
   "execution_count": 149,
   "metadata": {},
   "outputs": [],
   "source": [
    "def Xn(tab,n):\n",
    "    x=0\n",
    "    for j in tab :\n",
    "        x=x+j\n",
    "    return x/n "
   ]
  },
  {
   "cell_type": "code",
   "execution_count": 150,
   "metadata": {},
   "outputs": [],
   "source": [
    "def On(tab,n,xn):\n",
    "    teta = 0\n",
    "    for i in tab :\n",
    "        teta=teta+(i-xn)**2\n",
    "    return teta/n "
   ]
  },
  {
   "cell_type": "code",
   "execution_count": 151,
   "metadata": {},
   "outputs": [
    {
     "data": {
      "image/png": "[encoded data removed]",
      "text/plain": [
       "<Figure size 432x288 with 1 Axes>"
      ]
     },
     "metadata": {
      "needs_background": "light"
     },
     "output_type": "display_data"
    },
    {
     "name": "stdout",
     "output_type": "stream",
     "text": [
      "La valeur aleatoire 10 La moyenne 0.6091056304012946 et La variance 0.10316644852658656\n",
      "La valeur aleatoire 100 La moyenne 0.48738962900579597 et La variance 0.07434483589891937\n",
      "La valeur aleatoire 1000 La moyenne 0.49549994628832567 et La variance 0.08280736266462331\n",
      "La valeur aleatoire 10000 La moyenne 0.4966361410517891 et La variance 0.08349116594915323\n"
     ]
    }
   ],
   "source": [
    "import matplotlib.pyplot as plt\n",
    "n=[10,100,1000,10000]\n",
    "tetatable=[]\n",
    "xn=[]\n",
    "for i in n :\n",
    "    tab=Tab_alea(i)\n",
    "    xn.append(Xn(tab,i))\n",
    "    tetatable.append(On(tab,i,Xn(tab,i)))\n",
    "    \n",
    "plt.plot(n,tetatable,color=\"green\",label=\"moyenne Empirique\")\n",
    "plt.plot(n,xn,color=\"red\",label=\"variance Empirique\")\n",
    "plt.xlabel(\"Nombre d'échantillon\")\n",
    "plt.ylabel(\"Variables aléatoires\")\n",
    "plt.show()\n",
    "for i in range(len(n)):\n",
    "    print ('La valeur aleatoire {} La moyenne {} et La variance {}'.format(n[i],xn[i],tetatable[i]))"
   ]
  },
  {
   "cell_type": "markdown",
   "metadata": {},
   "source": [
    "## ``Comparaison entre les valeurs théoriques et pratiques :  ``\n",
    "\n",
    "|               |     N=10        |   N=100    |   N=1000  |  N =10000 | valeurs théoriques |\n",
    "| ------------- |: -------------: | ---------: | ---------:|  -------: | ------------------:|\n",
    "| La moyenne    |  0.52           | 0.54       | 0.49      | 0.49      |      0.5           |\n",
    "|               |                 |            |           |           |                    |\n",
    "|la variance    |  0.088          | 0.07       | 0.08      | 0.08      |      0.08          |"
   ]
  },
  {
   "cell_type": "markdown",
   "metadata": {},
   "source": [
    "## ``Interprétation:  ``\n",
    "On remarque que les valeurs théorique ≈ au valeurs pratiques\n",
    "\n",
    "==> plus on augmente la valeur de N :\n",
    "\n",
    "•\tplus La variance empirique se rapproche de la valeur de la variance théorique \n",
    "\n",
    "•\tplus La moyenne empirique se rapproche de la moyenne théorique."
   ]
  },
  {
   "cell_type": "markdown",
   "metadata": {},
   "source": [
    "# <font color=\"Indigo\" size=\"5\"/> Exemple2:\n",
    "### <font style=\"font-family:oblique;\"/>``X a la distribution exponentielle de paramètre lamda>0 :``"
   ]
  },
  {
   "cell_type": "markdown",
   "metadata": {},
   "source": [
    "## ``Calcul théorique:  ``\n",
    "La moyenne Empirique : $\\tilde{x_{n}}$ = $^1/_\\lambda$\n",
    "\n",
    "La variance Empirique: $On^{2}$ = $^1/_\\lambda^{2}$ \n",
    "\n",
    "Pour générer une telle variable aléatoire,on part de U,de distribution uniforme sur [0,1] et on calcule :\n",
    "\n",
    "$\\mathbf{x} = - \\log(U) /_\\lambda$\n",
    "\n",
    "pour $\\mathbf{N}$ = 10 (fixé) et $\\lambda$ =10\n",
    "\n",
    "==> $\\tilde{x_{n}}$ = 0.1\n",
    "\n",
    "==> $On^{2}$ = 0.01"
   ]
  },
  {
   "cell_type": "markdown",
   "metadata": {},
   "source": [
    "## ``Calcul pratique:  ``"
   ]
  },
  {
   "cell_type": "code",
   "execution_count": 152,
   "metadata": {},
   "outputs": [],
   "source": [
    "def Tab_alea(n,lamda):\n",
    "    tab=np.random.exponential(1/lamda,n)\n",
    "    return tab\n"
   ]
  },
  {
   "cell_type": "code",
   "execution_count": 153,
   "metadata": {},
   "outputs": [],
   "source": [
    "def moy(a,n):\n",
    "    \n",
    "    x=0 \n",
    "    for j in a:\n",
    "        x+=j\n",
    "    return x/n"
   ]
  },
  {
   "cell_type": "code",
   "execution_count": 154,
   "metadata": {},
   "outputs": [],
   "source": [
    "def var(a,xn_,n): \n",
    "    var=0\n",
    "    for i in a:\n",
    "        var+=(i-xn_)**2 \n",
    "    return var/n "
   ]
  },
  {
   "cell_type": "code",
   "execution_count": 155,
   "metadata": {},
   "outputs": [
    {
     "name": "stdout",
     "output_type": "stream",
     "text": [
      "[0.10452482630535179, 0.09339091452834607, 0.10494908144553276, 0.10031199373634374] \n",
      " [0.010820238357372464, 0.009141142963447308, 0.01164710824231436, 0.010200550171841363]\n"
     ]
    },
    {
     "data": {
      "image/png": "[encoded data removed]",
      "text/plain": [
       "<Figure size 432x288 with 1 Axes>"
      ]
     },
     "metadata": {
      "needs_background": "light"
     },
     "output_type": "display_data"
    },
    {
     "name": "stdout",
     "output_type": "stream",
     "text": [
      "La valeur aleatoire 10 La moyenne 0.10452482630535179 et La variance 0.010820238357372464\n",
      "La valeur aleatoire 100 La moyenne 0.09339091452834607 et La variance 0.009141142963447308\n",
      "La valeur aleatoire 1000 La moyenne 0.10494908144553276 et La variance 0.01164710824231436\n",
      "La valeur aleatoire 10000 La moyenne 0.10031199373634374 et La variance 0.010200550171841363\n"
     ]
    }
   ],
   "source": [
    "import numpy as np\n",
    "from ipykernel import kernelapp as app\n",
    "xn=[]\n",
    "tetatable=[] \n",
    "lamda=10\n",
    "n=[10,100,1000,10000]\n",
    "\n",
    "\n",
    "\n",
    "for i in n:\n",
    "    tab=Tab_alea(i,lamda) \n",
    "    xn.append(moy(tab,i)) \n",
    "    tetatable.append(var(tab,moy(tab,i),i)) \n",
    "print(xn,\"\\n\",tetatable) \n",
    "\n",
    "plt.plot(n,tetatable,color=\"green\",label=\"Variance empérique\") \n",
    "plt.plot(n,xn,color=\"red\",label=\"Moyenne empérique\") \n",
    "plt.xlabel(\"Nombre d'echantillon\")\n",
    "plt.ylabel(\"Variables aléatoires\")\n",
    "plt.title(\"Courbe de la moyenne empérique et la variance empérique\")\n",
    "plt.show() \n",
    "\n",
    "for i in range(len(n)):\n",
    "    print ('La valeur aleatoire {} La moyenne {} et La variance {}'.format(n[i],xn[i],tetatable[i]))"
   ]
  },
  {
   "cell_type": "markdown",
   "metadata": {},
   "source": [
    "## ``Comparaison entre les valeurs théoriques et pratiques :  ``\n",
    "$\\lambda$ =10 \n",
    "\n",
    "|               |     N=10        |   N=100    |   N=1000  |  N =10000 | valeurs théoriques |\n",
    "| ------------- |: -------------: | ---------: | ---------:|  -------: | ------------------:|\n",
    "| La moyenne    |  0.06           | 0.11       | 0.10      | 0.099     |      0.1           |\n",
    "|               |                 |            |           |           |                    |\n",
    "|la variance    |  0.003          | 0.01       | 0.009     | 0.009     |      0.01          |"
   ]
  },
  {
   "cell_type": "markdown",
   "metadata": {},
   "source": [
    "## ``Interprétation:  ``\n",
    "\n",
    "==> plus on augmente la valeur de N :\n",
    "\n",
    "•\tplus La variance empirique se rapproche de la valeur de la variance théorique \n",
    "\n",
    "•\tplus La moyenne empirique se rapproche de la moyenne théorique.\n"
   ]
  },
  {
   "cell_type": "markdown",
   "metadata": {},
   "source": [
    "# <font color=\"Indigo\" size=\"5\"/> Exemple3:\n",
    "### <font style=\"font-family:oblique;\"/>``X a la distribution discrète uniforme:``"
   ]
  },
  {
   "cell_type": "markdown",
   "metadata": {},
   "source": [
    "## ``Calcul théorique:  ``\n",
    "La moyenne Empirique : $\\frac{a+b}{2}$\n",
    "\n",
    "La variance Empirique: $On^{2}$ = $\\frac{(a-b)(a-b-2)}{12}$\n",
    "\n",
    "pour [a,b]= [5,25] (fixé)\n",
    "\n",
    "==> $\\tilde{x_{n}}$ = 1.5\n",
    "\n",
    "==> $On^{2}$ = 0.06\n"
   ]
  },
  {
   "cell_type": "markdown",
   "metadata": {},
   "source": [
    "## ``Calcul Pratique:  ``"
   ]
  },
  {
   "cell_type": "code",
   "execution_count": 156,
   "metadata": {},
   "outputs": [],
   "source": [
    "import matplotlib.pyplot as plt \n",
    "from scipy.stats import randint \n",
    "import numpy as np \n",
    "def Tab(b,c,n): \n",
    "    \n",
    "    tab_vide=[] \n",
    "    x=randint.rvs(b,c,size=n) \n",
    "    for i in x: \n",
    "        if i<b: \n",
    "            tab_vide.append(0) \n",
    "        elif i>= b and i<c: \n",
    "            tab_vide.append((1+(i-b)/(c-b+1))) \n",
    "        elif i>=c: \n",
    "            tab_vide.append(1) \n",
    "        \n",
    "    return tab_vide "
   ]
  },
  {
   "cell_type": "code",
   "execution_count": 157,
   "metadata": {},
   "outputs": [],
   "source": [
    "def moy(tab_vide,n) : \n",
    "    \n",
    "    x=0 \n",
    "    for j in tab_vide:\n",
    "        x+=j\n",
    "    return x/n"
   ]
  },
  {
   "cell_type": "code",
   "execution_count": 158,
   "metadata": {},
   "outputs": [],
   "source": [
    "def var_emp(tab_vide,xn_,n): \n",
    "    var=0\n",
    "    for i in tab_vide:\n",
    "        var+=(i-xn_)**2 \n",
    "    return var/n \n"
   ]
  },
  {
   "cell_type": "code",
   "execution_count": 159,
   "metadata": {},
   "outputs": [
    {
     "name": "stdout",
     "output_type": "stream",
     "text": [
      "<function Xn at 0x000001E66B5C15E0> \n",
      " [0.09045351473922901, 0.07622925170068025, 0.07500856009070289, 0.07637481340135402]\n"
     ]
    },
    {
     "data": {
      "image/png": "[encoded data removed]",
      "text/plain": [
       "<Figure size 432x288 with 1 Axes>"
      ]
     },
     "metadata": {
      "needs_background": "light"
     },
     "output_type": "display_data"
    },
    {
     "name": "stdout",
     "output_type": "stream",
     "text": [
      "La valeur aleatoire 10 La moyenne 1.3476190476190475 et La variance 0.04854875283446712\n",
      "La valeur aleatoire 100 La moyenne 1.451428571428572 et La variance 0.07376326530612241\n",
      "La valeur aleatoire 1000 La moyenne 1.4502857142857142 et La variance 0.07459878458049862\n",
      "La valeur aleatoire 10000 La moyenne 1.4482809523809355 et La variance 0.07633421040816091\n"
     ]
    }
   ],
   "source": [
    "n=[10,100,1000,10000] \n",
    "a=5 \n",
    "b=25 \n",
    "xn=[] \n",
    "tetatable=[] \n",
    "\n",
    "w=np.linspace(0,n, num=len(n)) \n",
    "\n",
    "for i in n: \n",
    "    t=Tab(a,b,i) \n",
    "    xn.append(moy(t,i)) \n",
    "    tetatable.append(var(t,moy(t,i),i))\n",
    "\n",
    "print(Xn,\"\\n\",teta) \n",
    "\n",
    "\n",
    "\n",
    "\n",
    "plt.plot(n,tetatable,color=\"red\",label=\"Variance empérique\") \n",
    "plt.plot(n,xn,color=\"green\",label=\"Moyenne empérique\") \n",
    "plt.xlabel(\"Nombre d'echantillon\")\n",
    "plt.ylabel(\"Variables aléatoires\")\n",
    "plt.title(\"Courbe de la moyenne empérique et la variance empérique\")\n",
    "\n",
    "plt.show()\n",
    "\n",
    "for i in range(len(n)):\n",
    "    print ('La valeur aleatoire {} La moyenne {} et La variance {}'.format(n[i],xn[i],tetatable[i]))"
   ]
  },
  {
   "cell_type": "markdown",
   "metadata": {},
   "source": [
    "## ``Comparaison entre les valeurs théoriques et pratiques :  ``\n",
    "[a,b]=[5,25]\n",
    "\n",
    "|               |     N=10        |   N=100    |   N=1000  |  N =10000 | valeurs théoriques |\n",
    "| ------------- |: -------------: | ---------: | ---------:|  -------: | ------------------:|\n",
    "| La moyenne    |  1.3            | 1.47       | 1.46      | 1.44      |      1.5           |\n",
    "|               |                 |            |           |           |                    |\n",
    "|la variance    |  0.1            | 0.07       | 0.07      | 0.07      |      0.06          |"
   ]
  },
  {
   "cell_type": "markdown",
   "metadata": {},
   "source": [
    "## ``Interprétation:  ``\n",
    "\n",
    "==> plus on augmente la valeur de N :\n",
    "\n",
    "•\tplus La variance empirique se rapproche de la valeur de la variance théorique \n",
    "\n",
    "•\tplus La moyenne empirique se rapproche de la moyenne théorique."
   ]
  },
  {
   "cell_type": "markdown",
   "metadata": {},
   "source": [
    "# <font color=\"Indigo\" size=\"5\"/> Exemple4:\n",
    "### <font style=\"font-family:oblique;\"/>``X a la distribution discrète telle que :``"
   ]
  },
  {
   "cell_type": "markdown",
   "metadata": {},
   "source": [
    "## ``Calcul théorique:  ``\n",
    "\n",
    "$P\\{x=0\\}$ = 0.3 \n",
    "\n",
    "$P\\{x=2\\}$ = 0.2\n",
    "\n",
    "$P\\{x=6\\}$ = 0.5\n",
    "\n",
    "Alors \n",
    "\n",
    "==> $\\tilde{x_{n}}$ = 3.4\n",
    "\n",
    "==> $On^{2}$ = 7.24\n",
    "\n"
   ]
  },
  {
   "cell_type": "code",
   "execution_count": 160,
   "metadata": {},
   "outputs": [],
   "source": [
    "import matplotlib.pyplot as plt \n",
    "import random  \n",
    "import numpy as np \n",
    "\n",
    "def tab_alea(n): \n",
    "    x=[]\n",
    "    tabvide=[] \n",
    "    for i in range(n):\n",
    "        x.append(random.uniform(0,1)) \n",
    "    for i in x: \n",
    "        if i<0.3: \n",
    "            tabvide.append(0) \n",
    "        elif i>= 0.3 and i<0.5: \n",
    "            tabvide.append(2) \n",
    "        elif i>=0.5: \n",
    "            tabvide.append(6) \n",
    "        \n",
    "    return tabvide "
   ]
  },
  {
   "cell_type": "code",
   "execution_count": 161,
   "metadata": {},
   "outputs": [],
   "source": [
    "def moy(tabvide,n) : \n",
    "    \n",
    "    x=0 \n",
    "    for j in tabvide:\n",
    "        x+=j\n",
    "    return x/n"
   ]
  },
  {
   "cell_type": "code",
   "execution_count": 162,
   "metadata": {},
   "outputs": [],
   "source": [
    "def var(tabvide,xn_,n): \n",
    "    var=0\n",
    "    for i in tabvide:\n",
    "        var+=(i-xn_)**2 \n",
    "    return var/n "
   ]
  },
  {
   "cell_type": "code",
   "execution_count": 163,
   "metadata": {},
   "outputs": [
    {
     "name": "stdout",
     "output_type": "stream",
     "text": [
      "[2.6, 3.48, 3.348, 3.4278] \n",
      " [8.040000000000001, 7.809600000000006, 7.390895999999973, 7.208987160000113]\n"
     ]
    },
    {
     "data": {
      "image/png": "[encoded data removed]",
      "text/plain": [
       "<Figure size 432x288 with 1 Axes>"
      ]
     },
     "metadata": {
      "needs_background": "light"
     },
     "output_type": "display_data"
    },
    {
     "name": "stdout",
     "output_type": "stream",
     "text": [
      "La valeur aleatoire 10 La moyenne 2.6 et La variance 8.040000000000001\n",
      "La valeur aleatoire 100 La moyenne 3.48 et La variance 7.809600000000006\n",
      "La valeur aleatoire 1000 La moyenne 3.348 et La variance 7.390895999999973\n",
      "La valeur aleatoire 10000 La moyenne 3.4278 et La variance 7.208987160000113\n"
     ]
    }
   ],
   "source": [
    "n=[10,100,1000,10000] \n",
    "tetatable=[] \n",
    "Xn=[] \n",
    "\n",
    "for i in n: \n",
    "    t=tab_alea(i) \n",
    "    Xn.append(moy(t,i)) \n",
    "    tetatable.append(var(t,moy(t,i),i))\n",
    "print(Xn,\"\\n\",tetatable) \n",
    "\n",
    "\n",
    "\n",
    "plt.plot(n,tetatable,color=\"red\",label=\"Variance empérique\")\n",
    "plt.plot(n,Xn,color=\"green\",label=\"Moyenne empérique\") \n",
    "plt.xlabel(\"Nombre d'echantillon\")\n",
    "plt.ylabel(\"Variables aléatoires\")\n",
    "plt.title(\"Courbe de la moyenne empérique et la variance empérique\")\n",
    "plt.show()\n",
    "for i in range(len(n)):\n",
    "    print ('La valeur aleatoire {} La moyenne {} et La variance {}'.format(n[i],Xn[i],tetatable[i]))"
   ]
  },
  {
   "cell_type": "markdown",
   "metadata": {},
   "source": [
    "## ``Comparaison entre les valeurs théoriques et pratiques :  ``\n",
    "\n",
    "\n",
    "|               |     N=10        |   N=100    |   N=1000  |  N =10000 | valeurs théoriques |\n",
    "| ------------- |: -------------: | ---------: | ---------:|  -------: | ------------------:|\n",
    "| La moyenne    |  2.0            | 3.84       | 3.35      | 3.39      |      3.4           |\n",
    "|               |                 |            |           |           |                    |\n",
    "|la variance    |  7.2            | 6.85       | 7.21      | 7.26      |      7.24          |"
   ]
  },
  {
   "cell_type": "markdown",
   "metadata": {},
   "source": [
    "## ``Interprétation:  ``\n",
    "•\tOn peut calculer x à partir de la probabilité des variables aléatoires.\n",
    "\n",
    "==> plus on augmente la valeur de N :\n",
    "\n",
    "•\tplus La variance empirique se rapproche de la valeur de la variance théorique \n",
    "\n",
    "•\tplus La moyenne empirique se rapproche de la moyenne théorique.\n"
   ]
  }
 ],
 "metadata": {
  "kernelspec": {
   "display_name": "Python 3",
   "language": "python",
   "name": "python3"
  },
  "language_info": {
   "codemirror_mode": {
    "name": "ipython",
    "version": 3
   },
   "file_extension": ".py",
   "mimetype": "text/x-python",
   "name": "python",
   "nbconvert_exporter": "python",
   "pygments_lexer": "ipython3",
   "version": "3.8.3"
  }
 },
 "nbformat": 4,
 "nbformat_minor": 4
}
